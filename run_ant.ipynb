{
 "cells": [
  {
   "cell_type": "code",
   "execution_count": 223,
   "metadata": {},
   "outputs": [],
   "source": [
    "from ant import Ant\n",
    "import matplotlib.pyplot as plt\n",
    "import numpy as np\n",
    "import pandas as pd\n",
    "from functools import lru_cache"
   ]
  },
  {
   "cell_type": "code",
   "execution_count": 224,
   "metadata": {},
   "outputs": [],
   "source": [
    "def boundary_1(x, y):\n",
    "    if (x**2 + y**2) <= 2:\n",
    "        return True\n",
    "    return False\n",
    "\n",
    "def boundary_2(x, y):\n",
    "    if ((x-2.5)/30)**2 + ((y-2.5)/40)**2 < 1:\n",
    "        return True\n",
    "    return False"
   ]
  },
  {
   "cell_type": "markdown",
   "metadata": {},
   "source": [
    "# Bill: A Clueless Hungry Ant"
   ]
  },
  {
   "cell_type": "markdown",
   "metadata": {},
   "source": [
    "## Initialize Bill"
   ]
  },
  {
   "cell_type": "code",
   "execution_count": 225,
   "metadata": {},
   "outputs": [
    {
     "name": "stdout",
     "output_type": "stream",
     "text": [
      "Hi! My name is Bill, and I am a clueless ant is search for food!\n",
      "In my search for food, I will start from (0, 0)\n",
      "Please wait while I calculate all the transition points that I can visit (even I should not be aware of them xD)\n",
      "Ok, I am ready to go!\n",
      "Below are the admissible transition points\n"
     ]
    },
    {
     "data": {
      "image/png": "[encoded data removed]",
      "text/plain": [
       "<Figure size 432x288 with 1 Axes>"
      ]
     },
     "metadata": {
      "needs_background": "light"
     },
     "output_type": "display_data"
    }
   ],
   "source": [
    "bill = Ant(boundary_function=boundary_1, workers=7)\n",
    "print('Below are the admissible transition points')\n",
    "bill.show_transition_points()"
   ]
  },
  {
   "cell_type": "markdown",
   "metadata": {},
   "source": [
    "## Solutions"
   ]
  },
  {
   "cell_type": "markdown",
   "metadata": {},
   "source": [
    "### Markov Solution"
   ]
  },
  {
   "cell_type": "code",
   "execution_count": 226,
   "metadata": {},
   "outputs": [
    {
     "name": "stdout",
     "output_type": "stream",
     "text": [
      "Bill has to do 4.5 steps on average to reach the food. Poor Bill!\n"
     ]
    }
   ],
   "source": [
    "bill.get_markov_solution()"
   ]
  },
  {
   "cell_type": "markdown",
   "metadata": {},
   "source": [
    "### Recursive Solution"
   ]
  },
  {
   "cell_type": "code",
   "execution_count": 227,
   "metadata": {},
   "outputs": [],
   "source": [
    "def get_adiacent(x,y) -> set:\n",
    "    \"\"\"Returns the set of points that are adiacent to a given (x,y) point.\n",
    "    \"\"\"\n",
    "    return set([(x-1,y), (x,y-1), (x+1,y), (x,y+1)])"
   ]
  },
  {
   "cell_type": "code",
   "execution_count": 228,
   "metadata": {},
   "outputs": [
    {
     "data": {
      "text/plain": [
       "[(-1, -1), (-1, 0), (-1, 1), (0, -1), (0, 0), (0, 1), (1, -1), (1, 0), (1, 1)]"
      ]
     },
     "execution_count": 228,
     "metadata": {},
     "output_type": "execute_result"
    }
   ],
   "source": [
    "transition_points = bill.points\n",
    "transition_points"
   ]
  },
  {
   "cell_type": "code",
   "execution_count": 229,
   "metadata": {},
   "outputs": [],
   "source": [
    "@lru_cache(maxsize = 100000000)\n",
    "def get_probability_recusive(t,p):\n",
    "    if (t == 0) and (p == (0,0)):\n",
    "        return 1\n",
    "    if t == 0:\n",
    "        return 0\n",
    "    adiacents = get_adiacent(p[0], p[1])\n",
    "    admissible_adiacents = list(set(transition_points).intersection(adiacents))\n",
    "    return sum([0.25*get_probability_recusive(t-1,adiacent) for adiacent in admissible_adiacents])"
   ]
  },
  {
   "cell_type": "code",
   "execution_count": 230,
   "metadata": {},
   "outputs": [],
   "source": [
    "def get_first_non_transition_points(admissible_points):\n",
    "    all_points = set()\n",
    "    for point in admissible_points:\n",
    "        all_points = all_points.union(get_adiacent(point[0], point[1]))\n",
    "    return list(all_points - set(admissible_points))"
   ]
  },
  {
   "cell_type": "code",
   "execution_count": 231,
   "metadata": {},
   "outputs": [],
   "source": [
    "def calculate_avg_steps_recursive():\n",
    "    steps = 100000\n",
    "    data = pd.DataFrame(index = list(range(steps)), columns=['p_is_end'])\n",
    "    for t in range(steps):\n",
    "        first_non_transition_points = get_first_non_transition_points(transition_points)\n",
    "        p_t = []\n",
    "        for point in first_non_transition_points:\n",
    "            p_t.append(get_probability_recusive(t,point))\n",
    "        data.loc[t, 'p_is_end'] = sum(p_t)\n",
    "\n",
    "    data = data.reset_index(drop = False).rename(columns={'index':'steps'})\n",
    "    data['step_p'] = data['steps'] * data['p_is_end']"
   ]
  },
  {
   "cell_type": "code",
   "execution_count": 232,
   "metadata": {},
   "outputs": [
    {
     "data": {
      "text/plain": [
       "4.5"
      ]
     },
     "execution_count": 232,
     "metadata": {},
     "output_type": "execute_result"
    }
   ],
   "source": [
    "data['step_p'].sum()"
   ]
  },
  {
   "cell_type": "code",
   "execution_count": 234,
   "metadata": {},
   "outputs": [
    {
     "data": {
      "text/html": [
       "<div>\n",
       "<style scoped>\n",
       "    .dataframe tbody tr th:only-of-type {\n",
       "        vertical-align: middle;\n",
       "    }\n",
       "\n",
       "    .dataframe tbody tr th {\n",
       "        vertical-align: top;\n",
       "    }\n",
       "\n",
       "    .dataframe thead th {\n",
       "        text-align: right;\n",
       "    }\n",
       "</style>\n",
       "<table border=\"1\" class=\"dataframe\">\n",
       "  <thead>\n",
       "    <tr style=\"text-align: right;\">\n",
       "      <th></th>\n",
       "      <th>steps</th>\n",
       "      <th>p_is_end</th>\n",
       "      <th>step_p</th>\n",
       "    </tr>\n",
       "  </thead>\n",
       "  <tbody>\n",
       "    <tr>\n",
       "      <th>0</th>\n",
       "      <td>0</td>\n",
       "      <td>0</td>\n",
       "      <td>0</td>\n",
       "    </tr>\n",
       "    <tr>\n",
       "      <th>1</th>\n",
       "      <td>1</td>\n",
       "      <td>0.0</td>\n",
       "      <td>0.0</td>\n",
       "    </tr>\n",
       "    <tr>\n",
       "      <th>2</th>\n",
       "      <td>2</td>\n",
       "      <td>0.25</td>\n",
       "      <td>0.5</td>\n",
       "    </tr>\n",
       "    <tr>\n",
       "      <th>3</th>\n",
       "      <td>3</td>\n",
       "      <td>0.25</td>\n",
       "      <td>0.75</td>\n",
       "    </tr>\n",
       "    <tr>\n",
       "      <th>4</th>\n",
       "      <td>4</td>\n",
       "      <td>0.125</td>\n",
       "      <td>0.5</td>\n",
       "    </tr>\n",
       "    <tr>\n",
       "      <th>...</th>\n",
       "      <td>...</td>\n",
       "      <td>...</td>\n",
       "      <td>...</td>\n",
       "    </tr>\n",
       "    <tr>\n",
       "      <th>99995</th>\n",
       "      <td>99995</td>\n",
       "      <td>0.0</td>\n",
       "      <td>0.0</td>\n",
       "    </tr>\n",
       "    <tr>\n",
       "      <th>99996</th>\n",
       "      <td>99996</td>\n",
       "      <td>0.0</td>\n",
       "      <td>0.0</td>\n",
       "    </tr>\n",
       "    <tr>\n",
       "      <th>99997</th>\n",
       "      <td>99997</td>\n",
       "      <td>0.0</td>\n",
       "      <td>0.0</td>\n",
       "    </tr>\n",
       "    <tr>\n",
       "      <th>99998</th>\n",
       "      <td>99998</td>\n",
       "      <td>0.0</td>\n",
       "      <td>0.0</td>\n",
       "    </tr>\n",
       "    <tr>\n",
       "      <th>99999</th>\n",
       "      <td>99999</td>\n",
       "      <td>0.0</td>\n",
       "      <td>0.0</td>\n",
       "    </tr>\n",
       "  </tbody>\n",
       "</table>\n",
       "<p>100000 rows × 3 columns</p>\n",
       "</div>"
      ],
      "text/plain": [
       "       steps p_is_end step_p\n",
       "0          0        0      0\n",
       "1          1      0.0    0.0\n",
       "2          2     0.25    0.5\n",
       "3          3     0.25   0.75\n",
       "4          4    0.125    0.5\n",
       "...      ...      ...    ...\n",
       "99995  99995      0.0    0.0\n",
       "99996  99996      0.0    0.0\n",
       "99997  99997      0.0    0.0\n",
       "99998  99998      0.0    0.0\n",
       "99999  99999      0.0    0.0\n",
       "\n",
       "[100000 rows x 3 columns]"
      ]
     },
     "execution_count": 234,
     "metadata": {},
     "output_type": "execute_result"
    }
   ],
   "source": [
    "data"
   ]
  },
  {
   "cell_type": "markdown",
   "metadata": {},
   "source": [
    "### Monte Carlo Simulation"
   ]
  },
  {
   "cell_type": "code",
   "execution_count": 233,
   "metadata": {},
   "outputs": [
    {
     "name": "stdout",
     "output_type": "stream",
     "text": [
      "Bill has to do 4.502228 steps on average to reach the food. Poor Bill!\n"
     ]
    },
    {
     "data": {
      "image/png": "[encoded data removed]",
      "text/plain": [
       "<Figure size 432x288 with 1 Axes>"
      ]
     },
     "metadata": {
      "needs_background": "light"
     },
     "output_type": "display_data"
    }
   ],
   "source": [
    "monte_carlo = bill.do_monte_carlo_avg_steps_multpross(n_samples=1000)\n",
    "fig, ax = plt.subplots(1)\n",
    "monte_carlo.plot.hist(bins = int(np.floor(np.sqrt(len(monte_carlo)))), column = ['average_steps'], ax = ax)\n",
    "plt.show()"
   ]
  },
  {
   "cell_type": "code",
   "execution_count": null,
   "metadata": {},
   "outputs": [],
   "source": []
  }
 ],
 "metadata": {
  "interpreter": {
   "hash": "351bd09ae71a62a2d5651816cb7ff563af003301a20a6f29f4dd5747562b9bee"
  },
  "kernelspec": {
   "display_name": "Python 3.9.12 ('base')",
   "language": "python",
   "name": "python3"
  },
  "language_info": {
   "codemirror_mode": {
    "name": "ipython",
    "version": 3
   },
   "file_extension": ".py",
   "mimetype": "text/x-python",
   "name": "python",
   "nbconvert_exporter": "python",
   "pygments_lexer": "ipython3",
   "version": "3.9.12"
  },
  "orig_nbformat": 4
 },
 "nbformat": 4,
 "nbformat_minor": 2
}
