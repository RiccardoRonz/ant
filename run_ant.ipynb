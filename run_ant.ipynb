{
 "cells": [
  {
   "cell_type": "code",
   "execution_count": 7,
   "metadata": {},
   "outputs": [],
   "source": [
    "from ant import Ant\n",
    "import matplotlib.pyplot as plt\n",
    "import numpy as np\n",
    "import pandas as pd\n",
    "from functools import lru_cache"
   ]
  },
  {
   "cell_type": "code",
   "execution_count": 8,
   "metadata": {},
   "outputs": [],
   "source": [
    "def boundary_1(x, y):\n",
    "    if (x**2 + y**2) <= 2:\n",
    "        return True\n",
    "    return False\n",
    "\n",
    "def boundary_2(x, y):\n",
    "    if ((x-2.5)/30)**2 + ((y-2.5)/40)**2 < 1:\n",
    "        return True\n",
    "    return False\n",
    "\n",
    "def boundary_3(x,y):\n",
    "    if ((x-0.25)/3)**2 + ((y-0.25)/4)**2 < 1:\n",
    "        return True\n",
    "    return False"
   ]
  },
  {
   "cell_type": "markdown",
   "metadata": {},
   "source": [
    "# Bill: A Clueless Hungry Ant"
   ]
  },
  {
   "cell_type": "markdown",
   "metadata": {},
   "source": [
    "# Question 1"
   ]
  },
  {
   "cell_type": "markdown",
   "metadata": {},
   "source": [
    "## Initialize Bill"
   ]
  },
  {
   "cell_type": "code",
   "execution_count": 9,
   "metadata": {},
   "outputs": [
    {
     "name": "stdout",
     "output_type": "stream",
     "text": [
      "Hi! My name is Bill, and I am a clueless ant is search for food!\n",
      "In my search for food, I will start from (0, 0)\n",
      "Please wait while I calculate all the transition points that I can visit (even I should not be aware of them xD)\n",
      "Ok, I am ready to go!\n",
      "Below are the admissible transition points\n"
     ]
    },
    {
     "data": {
      "image/png": "[encoded data removed]",
      "text/plain": [
       "<Figure size 432x288 with 1 Axes>"
      ]
     },
     "metadata": {
      "needs_background": "light"
     },
     "output_type": "display_data"
    }
   ],
   "source": [
    "bill = Ant(boundary_function=boundary_1, x0=0, y0=0, workers=8)\n",
    "print('Below are the admissible transition points')\n",
    "bill.show_transition_points()"
   ]
  },
  {
   "cell_type": "markdown",
   "metadata": {},
   "source": [
    "## Solutions"
   ]
  },
  {
   "cell_type": "markdown",
   "metadata": {},
   "source": [
    "### Markov Solution"
   ]
  },
  {
   "cell_type": "code",
   "execution_count": 10,
   "metadata": {},
   "outputs": [
    {
     "name": "stdout",
     "output_type": "stream",
     "text": [
      "Bill has to make 4.5 steps on average to reach the food. Poor Bill!\n"
     ]
    }
   ],
   "source": [
    "bill.get_markov_solution()"
   ]
  },
  {
   "cell_type": "markdown",
   "metadata": {},
   "source": [
    "### Recursive Solution"
   ]
  },
  {
   "cell_type": "code",
   "execution_count": 11,
   "metadata": {},
   "outputs": [
    {
     "name": "stdout",
     "output_type": "stream",
     "text": [
      "Bill has to make 4.499706268310547 steps on average to reach the food. Poor Bill!\n"
     ]
    },
    {
     "data": {
      "image/png": "[encoded data removed]",
      "text/plain": [
       "<Figure size 432x288 with 1 Axes>"
      ]
     },
     "metadata": {
      "needs_background": "light"
     },
     "output_type": "display_data"
    }
   ],
   "source": [
    "avg_steps, data_recursive = bill.calculate_avg_steps_recursive(0.00001)\n",
    "fig, ax = plt.subplots(1)\n",
    "data_recursive.plot.scatter(x='steps', y='p_t', ax = ax)\n",
    "plt.show()"
   ]
  },
  {
   "cell_type": "markdown",
   "metadata": {},
   "source": [
    "### Monte Carlo Simulation"
   ]
  },
  {
   "cell_type": "code",
   "execution_count": 12,
   "metadata": {},
   "outputs": [
    {
     "name": "stdout",
     "output_type": "stream",
     "text": [
      "Bill has to make 4.4993782 steps on average to reach the food. Poor Bill!\n"
     ]
    },
    {
     "data": {
      "image/png": "[encoded data removed]",
      "text/plain": [
       "<Figure size 432x288 with 1 Axes>"
      ]
     },
     "metadata": {
      "needs_background": "light"
     },
     "output_type": "display_data"
    }
   ],
   "source": [
    "monte_carlo = bill.do_monte_carlo_avg_steps(n_samples=10000)\n",
    "fig, ax = plt.subplots(1)\n",
    "monte_carlo.plot.hist(bins = int(np.floor(np.sqrt(len(monte_carlo)))), column = ['average_steps'], ax = ax)\n",
    "plt.show()"
   ]
  },
  {
   "cell_type": "markdown",
   "metadata": {},
   "source": [
    "# Question 3"
   ]
  },
  {
   "cell_type": "markdown",
   "metadata": {},
   "source": [
    "## Initialize Bill"
   ]
  },
  {
   "cell_type": "code",
   "execution_count": 13,
   "metadata": {},
   "outputs": [
    {
     "name": "stdout",
     "output_type": "stream",
     "text": [
      "Hi! My name is Bill, and I am a clueless ant is search for food!\n",
      "In my search for food, I will start from (0, 0)\n",
      "Please wait while I calculate all the transition points that I can visit (even I should not be aware of them xD)\n",
      "Ok, I am ready to go!\n",
      "Below are the admissible transition points\n"
     ]
    },
    {
     "data": {
      "image/png": "[encoded data removed]",
      "text/plain": [
       "<Figure size 432x288 with 1 Axes>"
      ]
     },
     "metadata": {
      "needs_background": "light"
     },
     "output_type": "display_data"
    }
   ],
   "source": [
    "bill = Ant(boundary_function=boundary_3, x0=0, y0=0, workers=8)\n",
    "print('Below are the admissible transition points')\n",
    "bill.show_transition_points()"
   ]
  },
  {
   "cell_type": "markdown",
   "metadata": {},
   "source": [
    "## Solutions"
   ]
  },
  {
   "cell_type": "markdown",
   "metadata": {},
   "source": [
    "### Markov Solution"
   ]
  },
  {
   "cell_type": "code",
   "execution_count": 15,
   "metadata": {},
   "outputs": [
    {
     "name": "stdout",
     "output_type": "stream",
     "text": [
      "Bill has to make 13.992053058411814 steps on average to reach the food. Poor Bill!\n"
     ]
    }
   ],
   "source": [
    "bill.get_markov_solution()"
   ]
  },
  {
   "cell_type": "markdown",
   "metadata": {},
   "source": [
    "### Recursive Solution"
   ]
  },
  {
   "cell_type": "code",
   "execution_count": 16,
   "metadata": {},
   "outputs": [
    {
     "name": "stdout",
     "output_type": "stream",
     "text": [
      "Bill has to make 13.990874270320726 steps on average to reach the food. Poor Bill!\n"
     ]
    },
    {
     "data": {
      "image/png": "[encoded data removed]",
      "text/plain": [
       "<Figure size 432x288 with 1 Axes>"
      ]
     },
     "metadata": {
      "needs_background": "light"
     },
     "output_type": "display_data"
    }
   ],
   "source": [
    "avg_steps, data_recursive = bill.calculate_avg_steps_recursive(0.00001)\n",
    "fig, ax = plt.subplots(1)\n",
    "data_recursive.plot.scatter(x='steps', y='p_t', ax = ax)\n",
    "plt.show()"
   ]
  },
  {
   "cell_type": "markdown",
   "metadata": {},
   "source": [
    "### Monte Carlo Solution"
   ]
  },
  {
   "cell_type": "code",
   "execution_count": 17,
   "metadata": {},
   "outputs": [
    {
     "name": "stdout",
     "output_type": "stream",
     "text": [
      "Bill has to make 13.99642 steps on average to reach the food. Poor Bill!\n"
     ]
    },
    {
     "data": {
      "image/png": "[encoded data removed]",
      "text/plain": [
       "<Figure size 432x288 with 1 Axes>"
      ]
     },
     "metadata": {
      "needs_background": "light"
     },
     "output_type": "display_data"
    }
   ],
   "source": [
    "monte_carlo = bill.do_monte_carlo_avg_steps(n_samples=10000)\n",
    "fig, ax = plt.subplots(1)\n",
    "monte_carlo.plot.hist(bins = int(np.floor(np.sqrt(len(monte_carlo)))), column = ['average_steps'], ax = ax)\n",
    "plt.show()"
   ]
  },
  {
   "cell_type": "markdown",
   "metadata": {},
   "source": [
    "# Bonus Section. An expensive scenario: large boundary"
   ]
  },
  {
   "cell_type": "markdown",
   "metadata": {},
   "source": [
    "## Initialize Bill"
   ]
  },
  {
   "cell_type": "code",
   "execution_count": 3,
   "metadata": {},
   "outputs": [
    {
     "name": "stdout",
     "output_type": "stream",
     "text": [
      "Hi! My name is Bill, and I am a clueless ant is search for food!\n",
      "In my search for food, I will start from (0, 0)\n",
      "Please wait while I calculate all the transition points that I can visit (even I should not be aware of them xD)\n",
      "Ok, I am ready to go!\n",
      "Below are the admissible transition points\n"
     ]
    },
    {
     "data": {
      "image/png": "[encoded data removed]",
      "text/plain": [
       "<Figure size 432x288 with 1 Axes>"
      ]
     },
     "metadata": {
      "needs_background": "light"
     },
     "output_type": "display_data"
    }
   ],
   "source": [
    "bill = Ant(boundary_function=boundary_2, workers=7)\n",
    "print('Below are the admissible transition points')\n",
    "bill.show_transition_points()"
   ]
  },
  {
   "cell_type": "markdown",
   "metadata": {},
   "source": [
    "## Solutions"
   ]
  },
  {
   "cell_type": "markdown",
   "metadata": {},
   "source": [
    "### Markov Solution"
   ]
  },
  {
   "cell_type": "code",
   "execution_count": 4,
   "metadata": {},
   "outputs": [
    {
     "name": "stdout",
     "output_type": "stream",
     "text": [
      "Bill has to make 1163.726257998394 steps on average to reach the food. Poor Bill!\n"
     ]
    }
   ],
   "source": [
    "bill.get_markov_solution()"
   ]
  },
  {
   "cell_type": "markdown",
   "metadata": {},
   "source": [
    "### Recursive Solution"
   ]
  },
  {
   "cell_type": "code",
   "execution_count": 5,
   "metadata": {},
   "outputs": [
    {
     "name": "stdout",
     "output_type": "stream",
     "text": [
      "Bill has to make 1163.2636139069193 steps on average to reach the food. Poor Bill!\n"
     ]
    },
    {
     "data": {
      "image/png": "[encoded data removed]",
      "text/plain": [
       "<Figure size 432x288 with 1 Axes>"
      ]
     },
     "metadata": {
      "needs_background": "light"
     },
     "output_type": "display_data"
    }
   ],
   "source": [
    "avg_steps, data_recursive = bill.calculate_avg_steps_recursive(0.00005)\n",
    "fig, ax = plt.subplots(1)\n",
    "data_recursive.plot.scatter(x='steps', y='p_t', ax = ax)\n",
    "plt.show()"
   ]
  },
  {
   "cell_type": "markdown",
   "metadata": {},
   "source": [
    "### Monte Carlo Simulation"
   ]
  },
  {
   "cell_type": "code",
   "execution_count": 6,
   "metadata": {},
   "outputs": [
    {
     "name": "stdout",
     "output_type": "stream",
     "text": [
      "Bill has to make 1163.5556565999998 steps on average to reach the food. Poor Bill!\n"
     ]
    },
    {
     "data": {
      "image/png": "[encoded data removed]",
      "text/plain": [
       "<Figure size 432x288 with 1 Axes>"
      ]
     },
     "metadata": {
      "needs_background": "light"
     },
     "output_type": "display_data"
    }
   ],
   "source": [
    "monte_carlo = bill.do_monte_carlo_avg_steps(n_samples=10000)\n",
    "fig, ax = plt.subplots(1)\n",
    "monte_carlo.plot.hist(bins = int(np.floor(np.sqrt(len(monte_carlo)))), column = ['average_steps'], ax = ax)\n",
    "plt.show()"
   ]
  },
  {
   "cell_type": "code",
   "execution_count": null,
   "metadata": {},
   "outputs": [],
   "source": []
  }
 ],
 "metadata": {
  "interpreter": {
   "hash": "351bd09ae71a62a2d5651816cb7ff563af003301a20a6f29f4dd5747562b9bee"
  },
  "kernelspec": {
   "display_name": "Python 3.9.12 ('base')",
   "language": "python",
   "name": "python3"
  },
  "language_info": {
   "codemirror_mode": {
    "name": "ipython",
    "version": 3
   },
   "file_extension": ".py",
   "mimetype": "text/x-python",
   "name": "python",
   "nbconvert_exporter": "python",
   "pygments_lexer": "ipython3",
   "version": "3.9.12"
  },
  "orig_nbformat": 4
 },
 "nbformat": 4,
 "nbformat_minor": 2
}
