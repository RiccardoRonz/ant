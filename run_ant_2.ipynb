{
 "cells": [
  {
   "cell_type": "code",
   "execution_count": 36,
   "metadata": {},
   "outputs": [],
   "source": [
    "from ant import Ant\n",
    "import matplotlib.pyplot as plt\n",
    "import numpy as np\n",
    "import pandas as pd\n",
    "from functools import lru_cache"
   ]
  },
  {
   "cell_type": "code",
   "execution_count": 37,
   "metadata": {},
   "outputs": [],
   "source": [
    "def boundary_1(x, y):\n",
    "    if (x**2 + y**2) <= 2:\n",
    "        return True\n",
    "    return False\n",
    "\n",
    "def boundary_2(x, y):\n",
    "    if ((x-2.5)/30)**2 + ((y-2.5)/40)**2 < 1:\n",
    "        return True\n",
    "    return False\n",
    "\n",
    "def boundary_3(x,y):\n",
    "    if ((x-0.25)/3)**2 + ((y-0.25)/4)**2 < 1:\n",
    "        return True\n",
    "    return False"
   ]
  },
  {
   "cell_type": "markdown",
   "metadata": {},
   "source": [
    "# Bill: A Clueless Hungry Ant"
   ]
  },
  {
   "cell_type": "markdown",
   "metadata": {},
   "source": [
    "# Question 1"
   ]
  },
  {
   "cell_type": "markdown",
   "metadata": {},
   "source": [
    "## Initialize Bill"
   ]
  },
  {
   "cell_type": "code",
   "execution_count": 38,
   "metadata": {},
   "outputs": [
    {
     "name": "stdout",
     "output_type": "stream",
     "text": [
      "Hi! My name is Bill, and I am a clueless ant is search for food!\n",
      "In my search for food, I will start from (0, 0)\n",
      "Please wait while I calculate all the transition points that I can visit (even I should not be aware of them xD)\n",
      "Ok, I am ready to go!\n",
      "Below are the admissible transition points\n"
     ]
    },
    {
     "data": {
      "image/png": "[encoded data removed]",
      "text/plain": [
       "<Figure size 432x288 with 1 Axes>"
      ]
     },
     "metadata": {
      "needs_background": "light"
     },
     "output_type": "display_data"
    }
   ],
   "source": [
    "bill = Ant(boundary_function=boundary_1, x0=0, y0=0, workers=8)\n",
    "print('Below are the admissible transition points')\n",
    "bill.show_transition_points()"
   ]
  },
  {
   "cell_type": "code",
   "execution_count": null,
   "metadata": {},
   "outputs": [],
   "source": [
    "bill = Ant(boundary_function=boundary_3, x0=0, y0=0, workers=8)\n",
    "print('Below are the admissible transition points')\n",
    "bill.show_transition_points()"
   ]
  },
  {
   "cell_type": "markdown",
   "metadata": {},
   "source": [
    "## Solutions"
   ]
  },
  {
   "cell_type": "markdown",
   "metadata": {},
   "source": [
    "### Markov Solution"
   ]
  },
  {
   "cell_type": "code",
   "execution_count": 39,
   "metadata": {},
   "outputs": [
    {
     "name": "stdout",
     "output_type": "stream",
     "text": [
      "Bill has to make 4.5 steps on average to reach the food. Poor Bill!\n"
     ]
    }
   ],
   "source": [
    "bill.get_markov_solution()"
   ]
  },
  {
   "cell_type": "markdown",
   "metadata": {},
   "source": [
    "### Recursive Solution"
   ]
  },
  {
   "cell_type": "code",
   "execution_count": 40,
   "metadata": {},
   "outputs": [
    {
     "name": "stdout",
     "output_type": "stream",
     "text": [
      "Bill has to make 4.499706268310547 steps on average to reach the food. Poor Bill!\n"
     ]
    },
    {
     "data": {
      "image/png": "[encoded data removed]",
      "text/plain": [
       "<Figure size 432x288 with 1 Axes>"
      ]
     },
     "metadata": {
      "needs_background": "light"
     },
     "output_type": "display_data"
    }
   ],
   "source": [
    "avg_steps, data_recursive = bill.calculate_avg_steps_recursive(0.00001)\n",
    "fig, ax = plt.subplots(1)\n",
    "data_recursive.plot.scatter(x='steps', y='p_t', ax = ax)\n",
    "plt.show()"
   ]
  },
  {
   "cell_type": "markdown",
   "metadata": {},
   "source": [
    "### Monte Carlo Simulation"
   ]
  },
  {
   "cell_type": "code",
   "execution_count": 41,
   "metadata": {},
   "outputs": [
    {
     "name": "stdout",
     "output_type": "stream",
     "text": [
      "Bill has to make 4.500869 steps on average to reach the food. Poor Bill!\n"
     ]
    },
    {
     "data": {
      "image/png": "[encoded data removed]",
      "text/plain": [
       "<Figure size 432x288 with 1 Axes>"
      ]
     },
     "metadata": {
      "needs_background": "light"
     },
     "output_type": "display_data"
    }
   ],
   "source": [
    "monte_carlo = bill.do_monte_carlo_avg_steps(n_samples=10000)\n",
    "fig, ax = plt.subplots(1)\n",
    "monte_carlo.plot.hist(bins = int(np.floor(np.sqrt(len(monte_carlo)))), column = ['average_steps'], ax = ax)\n",
    "plt.show()"
   ]
  },
  {
   "cell_type": "markdown",
   "metadata": {},
   "source": [
    "# Question 3"
   ]
  },
  {
   "cell_type": "markdown",
   "metadata": {},
   "source": [
    "## Initialize Bill"
   ]
  },
  {
   "cell_type": "code",
   "execution_count": 46,
   "metadata": {},
   "outputs": [
    {
     "name": "stdout",
     "output_type": "stream",
     "text": [
      "Hi! My name is Bill, and I am a clueless ant is search for food!\n",
      "In my search for food, I will start from (0, 0)\n",
      "Please wait while I calculate all the transition points that I can visit (even I should not be aware of them xD)\n",
      "Ok, I am ready to go!\n",
      "Below are the admissible transition points\n"
     ]
    },
    {
     "data": {
      "image/png": "[encoded data removed]",
      "text/plain": [
       "<Figure size 432x288 with 1 Axes>"
      ]
     },
     "metadata": {
      "needs_background": "light"
     },
     "output_type": "display_data"
    }
   ],
   "source": [
    "bill = Ant(boundary_function=boundary_3, x0=0, y0=0, workers=8)\n",
    "print('Below are the admissible transition points')\n",
    "bill.show_transition_points()"
   ]
  },
  {
   "cell_type": "markdown",
   "metadata": {},
   "source": [
    "## Solutions"
   ]
  },
  {
   "cell_type": "markdown",
   "metadata": {},
   "source": [
    "### Markov Solution"
   ]
  },
  {
   "cell_type": "code",
   "execution_count": 47,
   "metadata": {},
   "outputs": [
    {
     "name": "stdout",
     "output_type": "stream",
     "text": [
      "Bill has to make 13.992053058411814 steps on average to reach the food. Poor Bill!\n"
     ]
    }
   ],
   "source": [
    "bill.get_markov_solution()"
   ]
  },
  {
   "cell_type": "markdown",
   "metadata": {},
   "source": [
    "### Recursive Solution"
   ]
  },
  {
   "cell_type": "code",
   "execution_count": 48,
   "metadata": {},
   "outputs": [
    {
     "name": "stdout",
     "output_type": "stream",
     "text": [
      "Bill has to make 13.990874270320726 steps on average to reach the food. Poor Bill!\n"
     ]
    },
    {
     "data": {
      "image/png": "[encoded data removed]",
      "text/plain": [
       "<Figure size 432x288 with 1 Axes>"
      ]
     },
     "metadata": {
      "needs_background": "light"
     },
     "output_type": "display_data"
    }
   ],
   "source": [
    "avg_steps, data_recursive = bill.calculate_avg_steps_recursive(0.00001)\n",
    "fig, ax = plt.subplots(1)\n",
    "data_recursive.plot.scatter(x='steps', y='p_t', ax = ax)\n",
    "plt.show()"
   ]
  },
  {
   "cell_type": "markdown",
   "metadata": {},
   "source": [
    "### Monte Carlo Solution"
   ]
  },
  {
   "cell_type": "code",
   "execution_count": 49,
   "metadata": {},
   "outputs": [
    {
     "name": "stdout",
     "output_type": "stream",
     "text": [
      "Bill has to make 13.990410800000001 steps on average to reach the food. Poor Bill!\n"
     ]
    },
    {
     "data": {
      "image/png": "[encoded data removed]",
      "text/plain": [
       "<Figure size 432x288 with 1 Axes>"
      ]
     },
     "metadata": {
      "needs_background": "light"
     },
     "output_type": "display_data"
    }
   ],
   "source": [
    "monte_carlo = bill.do_monte_carlo_avg_steps(n_samples=10000)\n",
    "fig, ax = plt.subplots(1)\n",
    "monte_carlo.plot.hist(bins = int(np.floor(np.sqrt(len(monte_carlo)))), column = ['average_steps'], ax = ax)\n",
    "plt.show()"
   ]
  },
  {
   "cell_type": "code",
   "execution_count": null,
   "metadata": {},
   "outputs": [],
   "source": []
  }
 ],
 "metadata": {
  "interpreter": {
   "hash": "351bd09ae71a62a2d5651816cb7ff563af003301a20a6f29f4dd5747562b9bee"
  },
  "kernelspec": {
   "display_name": "Python 3.9.12 ('base')",
   "language": "python",
   "name": "python3"
  },
  "language_info": {
   "codemirror_mode": {
    "name": "ipython",
    "version": 3
   },
   "file_extension": ".py",
   "mimetype": "text/x-python",
   "name": "python",
   "nbconvert_exporter": "python",
   "pygments_lexer": "ipython3",
   "version": "3.9.12"
  },
  "orig_nbformat": 4
 },
 "nbformat": 4,
 "nbformat_minor": 2
}
